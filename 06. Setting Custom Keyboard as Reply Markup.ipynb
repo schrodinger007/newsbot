{
 "cells": [
  {
   "cell_type": "markdown",
   "metadata": {},
   "source": [
    "# <center>Telegram Bot using Python (Part-6)</center>\n",
    "\n",
    "<img src=images/telegram-logo.png height=250 width=250>"
   ]
  },
  {
   "cell_type": "markdown",
   "metadata": {},
   "source": [
    "### Custom Keyboard Reply Markup\n",
    "\n",
    "```python\n",
    "def news(bot, update):\n",
    "\tbot.send_message(chat_id=update.message.chat_id, text=\"Choose a category\", \n",
    "\t\treply_markup=ReplyKeyboardMarkup(keyboard=topics_keyboard, one_time_keyboard=True))\n",
    "```\n",
    "\n",
    "### A keyboard is provided as a list of lists (consider it like a table)\n",
    "\n",
    "```python\n",
    "topics_keyboard = [\n",
    "\t['Top Stories', 'World', 'Nation'], \n",
    "    ['Business', 'Technology', 'Entertainment'], \n",
    "\t['Sports', 'Science', 'Health']\n",
    "]\n",
    "```"
   ]
  }
 ],
 "metadata": {
  "kernelspec": {
   "display_name": "Python 3",
   "language": "python",
   "name": "python3"
  },
  "language_info": {
   "codemirror_mode": {
    "name": "ipython",
    "version": 3
   },
   "file_extension": ".py",
   "mimetype": "text/x-python",
   "name": "python",
   "nbconvert_exporter": "python",
   "pygments_lexer": "ipython3",
   "version": "3.6.7"
  }
 },
 "nbformat": 4,
 "nbformat_minor": 2
}
