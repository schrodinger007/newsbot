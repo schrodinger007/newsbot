{
 "cells": [
  {
   "cell_type": "markdown",
   "metadata": {},
   "source": [
    "# <center>Telegram Bot using Python (Part-1)</center>\n",
    "\n",
    "<img src=images/telegram-logo.png height=250 width=250>\n",
    "\n",
    "### [Telegram for Desktop](https://desktop.telegram.org/)"
   ]
  },
  {
   "cell_type": "markdown",
   "metadata": {},
   "source": [
    "## What is a Telegram Bot?\n",
    "\n",
    "Bots are third-party applications that run inside Telegram. Users can interact with bots by sending them messages, commands and inline requests. You control your bots using HTTPS requests to Telegram Bot API.\n",
    "\n",
    "> Telegram Bots are special accounts that do not require an additional phone number to set up. These accounts serve as an interface for code running somewhere on your server.\n",
    "\n",
    "\n",
    "## Registering a Telegram Bot\n",
    "\n",
    "<img src=images/telegram-botfather.jpeg height=300 width=300>"
   ]
  }
 ],
 "metadata": {
  "kernelspec": {
   "display_name": "Python 3",
   "language": "python",
   "name": "python3"
  },
  "language_info": {
   "codemirror_mode": {
    "name": "ipython",
    "version": 3
   },
   "file_extension": ".py",
   "mimetype": "text/x-python",
   "name": "python",
   "nbconvert_exporter": "python",
   "pygments_lexer": "ipython3",
   "version": "3.6.7"
  }
 },
 "nbformat": 4,
 "nbformat_minor": 2
}
