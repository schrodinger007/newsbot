{
 "cells": [
  {
   "cell_type": "markdown",
   "metadata": {},
   "source": [
    "# <center>Telegram Bot using Python (Part-3)</center>\n",
    "\n",
    "<img src=images/telegram-logo.png height=250 width=250>\n"
   ]
  },
  {
   "cell_type": "markdown",
   "metadata": {},
   "source": [
    "## Polling vs Webhook\n",
    "\n",
    "![](images/webhook.png)\n",
    "\n",
    "### Ports currently supported for Webhooks: 443, 80, 88, 8443."
   ]
  },
  {
   "cell_type": "markdown",
   "metadata": {},
   "source": [
    "## Setting up a server\n",
    "\n",
    "### 1. Install Flask\n",
    "\n",
    "```\n",
    "pip install flask\n",
    "```\n",
    "\n",
    "### 2. Setup Webhook\n",
    "\n",
    "```python\n",
    "# create telegram bot object\n",
    "bot = Bot(TOKEN)\n",
    "# set webhook for telegram bot\n",
    "bot.set_webhook(\"https://example.com/\" + TOKEN)\n",
    "```\n",
    "\n",
    "### 2. Create view to handle webhooks\n",
    "\n",
    "```python\n",
    "@app.route(f'/{TOKEN}', methods=['GET', 'POST'])\n",
    "def webhook():\n",
    "    \"\"\"webhook view which receives updates from telegram\"\"\"\n",
    "    # create update object from json-format request data\n",
    "    update = Update.de_json(request.get_json(), bot)\n",
    "    # process update\n",
    "    dispatcher.process_update(update)\n",
    "    return \"ok\"\n",
    "```\n",
    "\n",
    "### 3. Generate Public URL for Webhook using ngrok.io\n",
    "\n",
    "![](images/ngrok1.png)\n",
    "\n",
    "> *ngrok is a free tool that allows us to tunnel from a public URL to our application running locally.*\n",
    "\n",
    "- Download ngrok.\n",
    "- Unzip it.\n",
    "- Run ngrok from command line (from the location where executable is stored)\n",
    "```\n",
    "  ./ngrok http 8443\n",
    "```\n",
    "- Copy the HTTPS Forwarding URL\n",
    "\n",
    "![](images/ngrok2.png)"
   ]
  }
 ],
 "metadata": {
  "kernelspec": {
   "display_name": "Python 3",
   "language": "python",
   "name": "python3"
  },
  "language_info": {
   "codemirror_mode": {
    "name": "ipython",
    "version": 3
   },
   "file_extension": ".py",
   "mimetype": "text/x-python",
   "name": "python",
   "nbconvert_exporter": "python",
   "pygments_lexer": "ipython3",
   "version": "3.6.7"
  }
 },
 "nbformat": 4,
 "nbformat_minor": 2
}
