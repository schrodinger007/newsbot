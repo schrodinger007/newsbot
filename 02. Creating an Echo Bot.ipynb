{
 "cells": [
  {
   "cell_type": "markdown",
   "metadata": {},
   "source": [
    "# <center>Telegram Bot using Python (Part-2)</center>\n",
    "\n",
    "<img src=images/telegram-logo.png height=250 width=250>\n"
   ]
  },
  {
   "cell_type": "markdown",
   "metadata": {},
   "source": [
    "## Setting up the Project\n",
    "\n",
    "### 1. Setup a Python Virtual Environment\n",
    "> A virtual environment is a tool that helps to keep dependencies required by different projects separate by creating isolated python virtual environments for them.\n",
    "\n",
    "- Create a Project Folder.\n",
    "\n",
    "\n",
    "- Run following command to create a new virtual environment inside your project folder:\n",
    "```\n",
    "python -m venv myvenv\n",
    "```\n",
    "\n",
    "    After running above command, a folder named `myvenv` will get created in your project folder.\n",
    "\n",
    "\n",
    "- Activate the virtual environment by running following command:\n",
    "    - For ubuntu and mac users:\n",
    "        ```\n",
    "        source myvenv/bin/activate\n",
    "        ```\n",
    "    - For windows users:\n",
    "        ```\n",
    "        myvenv\\Scripts\\activate\n",
    "        ```\n",
    "---------\n",
    "\n",
    "### 2. Install required Python Packages:\n",
    "- [python-telegram-bot](https://github.com/python-telegram-bot/python-telegram-bot)\n",
    "    ```\n",
    "    pip install python-telegram-bot\n",
    "    ```\n",
    "\n",
    "--------------"
   ]
  },
  {
   "cell_type": "markdown",
   "metadata": {},
   "source": [
    "## Polling Program\n",
    "\n",
    "![](images/polling.png)"
   ]
  },
  {
   "cell_type": "markdown",
   "metadata": {},
   "source": [
    "## Echo Bot\n",
    "\n",
    "### 1. Enable Logging\n",
    "\n",
    "```python\n",
    "import logging\n",
    "\n",
    "logging.basicConfig(format='%(asctime)s - %(name)s - %(levelname)s - %(message)s', \n",
    "                    level=logging.INFO)\n",
    "logger = logging.getLogger(__name__)\n",
    "```\n",
    "\n",
    "\n",
    "### 2. Create Updater\n",
    "\n",
    "```python\n",
    "updater = Updater(TOKEN)\n",
    "```\n",
    "\n",
    "### 3. Create Dispatcher\n",
    "\n",
    "```python\n",
    "dp = updater.dispatcher\n",
    "```\n",
    "\n",
    "### 4. Add handlers\n",
    "\n",
    "```python\n",
    "dp.add_handler(CommandHandler(\"start\", start))\n",
    "dp.add_handler(CommandHandler(\"help\", _help))\n",
    "dp.add_handler(MessageHandler(Filters.text, echo_text))\n",
    "dp.add_handler(MessageHandler(Filters.sticker, echo_sticker))\n",
    "dp.add_error_handler(error)\n",
    "```\n",
    "\n",
    "### 5. Start Polling and wait for any signal to end the program\n",
    "\n",
    "```python\n",
    "updater.start_polling()\n",
    "updater.idle()\n",
    "```"
   ]
  }
 ],
 "metadata": {
  "kernelspec": {
   "display_name": "Python 3",
   "language": "python",
   "name": "python3"
  },
  "language_info": {
   "codemirror_mode": {
    "name": "ipython",
    "version": 3
   },
   "file_extension": ".py",
   "mimetype": "text/x-python",
   "name": "python",
   "nbconvert_exporter": "python",
   "pygments_lexer": "ipython3",
   "version": "3.6.7"
  }
 },
 "nbformat": 4,
 "nbformat_minor": 2
}
